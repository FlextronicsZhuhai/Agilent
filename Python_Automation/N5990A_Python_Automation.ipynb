{
 "metadata": {
  "name": ""
 },
 "nbformat": 3,
 "nbformat_minor": 0,
 "worksheets": [
  {
   "cells": [
    {
     "cell_type": "markdown",
     "metadata": {},
     "source": [
      "<h3>The example below illustrates different methods of handling events with N5990A Valiframe automation.</h3>\n",
      "*For a more general overview of automation of Agilent Instruments using Python [see here](Python_Automation.ipynb)*\n",
      "<br>\n",
      "<br>\n",
      "First we will make our imports and connections to the ValiFrame environment."
     ]
    },
    {
     "cell_type": "code",
     "collapsed": false,
     "input": [
      "import time\n",
      "import win32api\n",
      "import sys\n",
      "sys.path.append('C:\\\\Program Files (x86)\\\\BitifEye\\\\ValiFrame\\\\MPhy') # Add the location of the Valiframe dll's to the system path\n",
      "import clr # Import the Common Runtime Library Python module\n",
      "\n",
      "clr.AddReference(\"ValiFrameRemote\") # Create a reference from CLR to the ValiFrameRemote DLL\n",
      "clr.AddReference(\"VFBase\") # Create a reference from CLR to the VFBase DLL\n",
      "clr.AddReference(\"VFSequence\") # Create a reference from CLR to the VFSequence DLL\n",
      "clr.AddReference(\"VFUserInterface\") # Create a reference from CLR to the VFUserInterface DLL\n",
      "\n",
      "from BitifEye.ValiFrame.ValiFrameRemote import * # Import the entire ValiFrameRemote namespace from the DLL\n",
      "from BitifEye.ValiFrame.Base import * # Import the entire Base namespace from the DLL\n",
      "from BitifEye.ValiFrame.Sequence import * # Import the entire Sequence namespace from the DLL\n",
      "from BitifEye.ValiFrame.UserInterface import * # Import the entire UserInterface namespace from the DLL\n",
      "from BitifEye.Controls import * # Import the entire Controls namespace from the DLL\n"
     ],
     "language": "python",
     "metadata": {},
     "outputs": [],
     "prompt_number": 1
    },
    {
     "cell_type": "markdown",
     "metadata": {},
     "source": [
      "Next we need to create functions to handle what happens when Valiframe creates an event.\n",
      "<br>We show some examples of how you might have the user interact with these events depending on whether it is desired to suppress all dialogs or just things like connection prompts etc."
     ]
    },
    {
     "cell_type": "code",
     "collapsed": false,
     "input": [
      "def my_LogChanged(logentry):\n",
      "    \"\"\"When Valiframe modifies the event log we can:\n",
      "    1. Display the log entry\n",
      "    2. Simply print that the log has changed\n",
      "    3. Create a message box informing the user about the log change.\n",
      "    For this example we will do nothing so we don't have a ton of log change notifications.\"\"\"\n",
      "    # 1.\n",
      "##    print 'log changed: ' + logentry #View log entry change - lots of text........\n",
      "    # 2. \n",
      "##    print 'log changed'\n",
      "    # 3.\n",
      "##    msgbox = 'log changed: ' + logentry\n",
      "##    title = 'log changed'\n",
      "##    win32api.MessageBox(0,str(msgbox), str(title))\n",
      "    pass\n",
      "\n",
      "\n",
      "def my_StatusChanged(source,status):\n",
      "    print 'status changed: ' + status\n",
      "    msgbox = 'status changed: ' + status\n",
      "    title = 'status changed'\n",
      "    win32api.MessageBox(0,str(msgbox), str(title))\n",
      "\n",
      "def my_ProcedureCompleted(procedure,xmlresult):\n",
      "    print 'procedure complete'\n",
      "    print procedure\n",
      "    print xmlresult\n",
      "\n",
      "def my_DialogPopUp(source, args):\n",
      "\n",
      "    #args.Dialog.ShowDialog()  #Uncomment to show Valiframe dialog box for all cases\n",
      "\n",
      "    #Alternately display windows messagebox w/ Valiframe messages\n",
      "    msgbox = args.DialogText\n",
      "    title = args.Dialog\n",
      "    print msgbox\n",
      "    print title\n",
      "    win32api.MessageBox(0,str(msgbox), str(title))\n",
      "\n",
      "    # Definition for args.DialogType\n",
      "    #Member name           Value   Description \n",
      "    #Form                  0       General Form if the dialog is not one of the other dialog types  \n",
      "    #MessageBox            1       Standard Windows.Forms.MessageBox.  \n",
      "    #ConnectionDialog      2       Connection dialog. The dialog which pops up if a connection change is required.  \n",
      "    #UserInformationDialog 3       User Information Dialog, which contains a text and one button.  \n",
      "    #UserDecisionDialog    4       User Decision Dialog, which contains one text and 2 buttons.  \n",
      "    #InfoDialog            5       Info Dialog, which is the same as the UserInformationDialog (obsolete, will be removed in one of the next releases).  \n",
      "\n",
      "    if args.DialogType == 0:\n",
      "            print 'General Form Dialog'\n",
      "            #  add actions here.....\n",
      "            #  args.Dialog.ShowDialog() #Uncomment to show dialog box for this case\n",
      "    elif args.DialogType == 1:\n",
      "            print 'Standard Windows.Forms.MessageBox'\n",
      "            #  add actions here.....\n",
      "            #  args.Dialog.ShowDialog() #Uncomment to show dialog box for this case\n",
      "    elif args.DialogType == 2:\n",
      "            print 'Connection Dialog'\n",
      "            #  add actions here.....\n",
      "            #  args.Dialog.ShowDialog() #Uncomment to show dialog box for this case\n",
      "    elif args.DialogType == 3:\n",
      "            print 'UserInformationDialog'\n",
      "            #  add actions here.....\n",
      "            #  args.Dialog.ShowDialog() #Uncomment to show dialog box for this case\n",
      "    elif args.DialogType == 4:\n",
      "            print 'UserDecisionDialog'\n",
      "            #  add actions here.....\n",
      "            #  args.Dialog.ShowDialog() #Uncomment to show dialog box for this case\n",
      "    elif args.DialogType == 5:\n",
      "            print 'InfoDialog'\n",
      "            #  add actions here.....\n",
      "            #  args.Dialog.ShowDialog() #Uncomment to show dialog box for this case\n",
      "    else:\n",
      "            print 'Message not handled'"
     ],
     "language": "python",
     "metadata": {},
     "outputs": [],
     "prompt_number": 10
    },
    {
     "cell_type": "markdown",
     "metadata": {},
     "source": [
      "Now we'll get started with our application. In this case we'll run the MIPI MPhy application."
     ]
    },
    {
     "cell_type": "code",
     "collapsed": false,
     "input": [
      "my_vf_mipi = ValiFrameRemote() # Creates an instance of the ValiFrameRemote class\n",
      "\n",
      "#register event handler\n",
      "my_vf_mipi.LogChanged += LogChangedEventHandler(my_LogChanged);\n",
      "my_vf_mipi.StatusChanged += StatusChangedEventHandler(my_StatusChanged);\n",
      "my_vf_mipi.ProcedureCompleted += ProcedureCompletedEventHandler(my_ProcedureCompleted);\n",
      "my_vf_mipi.DialogPopUp += DialogShowEventHandler(my_DialogPopUp);\n",
      "\n",
      "my_vf_mipi.InitApplication(\"MPhy\") # Initialize the application"
     ],
     "language": "python",
     "metadata": {},
     "outputs": [
      {
       "metadata": {},
       "output_type": "pyout",
       "prompt_number": 3,
       "text": [
        "True"
       ]
      }
     ],
     "prompt_number": 3
    },
    {
     "cell_type": "code",
     "collapsed": false,
     "input": [
      "my_vf_mipi.LoadProject(\"my_MIPI3_proj.vfp\")\n",
      "#my_vf_mipi.ConfigureApplication() # This method creates a GUI dialog"
     ],
     "language": "python",
     "metadata": {},
     "outputs": [],
     "prompt_number": 4
    },
    {
     "cell_type": "code",
     "collapsed": false,
     "input": [
      "# Determnie available procedures\n",
      "procedureIDs = procedureNames = [] # The variable names must be assigned to something but are overwritten in the next call\n",
      "_, procedureIDs, procedureNames = my_vf_mipi.GetProcedures(procedureIDs, procedureNames)\n",
      "procedureIDs = [int(id) for id in procedureIDs] # Convert to a python list of integers\n",
      "procedureNames = [str(name) for name in procedureNames] # Convert to a python list of strings\n",
      "procs = zip(procedureIDs, procedureNames) # Zip the id's & names together. A dictionary may also be a useful way to store these.\n",
      "for proc_id,proc_name in procs:\n",
      "    print proc_id, proc_name"
     ],
     "language": "python",
     "metadata": {},
     "outputs": [
      {
       "output_type": "stream",
       "stream": "stdout",
       "text": [
        "5510089 Reference Clock Calibration\n",
        "5510000 Level Calibration Terminated Data0\n",
        "5510005 Level Calibration Into Open Data0\n",
        "5510030 Short Term RJ Calibration\n",
        "5510040 Low Frequency RJ Calibration\n",
        "5510120 ISI Calibration Gear 1 & Gear 2\n",
        "5510020 High Frequency SJ Calibration 1248 MBit/s\n",
        "5510010 SJ Calibration 1248 MBit/s\n",
        "5510045 ISI Calibration (J20) 1248 MBit/s\n",
        "5510100 Accumulated Voltage Calibration with Jitter Terminated HS 1248 MBit/s\n",
        "5510060 Accumulated Voltage Calibration Terminated HS 1248 MBit/s\n",
        "5511997 Setup Procedure Full\n",
        "5511998 Setup Procedure Pattern\n",
        "5511999 Setup Procedure Fast\n",
        "5500000 Test 2.1.1 - HS-RX Differential Input Voltage Amplitude Data0 at 1.248 GBit/s\n",
        "5500040 Test 2.1.3 - HS-RX Common-Mode Input Voltage Tolerance Data0 at 1.248 GBit/s\n",
        "5500200 Test 2.1.8 - HS-RX Frequency Offset Tolerance (fOFFSET-RX) during HS-Burst Data0 at 1.248 GBit/s\n",
        "5500240 Test 2.1.8b - HS-RX Frequency Offset Tolerance (fOFFSET-RX) during HS-Continuous Mode Data0 at 1.248 GBit/s\n",
        "5500280 Test 2.1.9 - HS-RX Prepare Length Verification Data0 at 1.248 GBit/s\n",
        "5500320 Test 2.1.10 - HS-RX Sync Length Verification Data0 at 1.248 GBit/s\n",
        "5500080 Test 2.1.4 - HS-RX Differential Termination Enable Time (T TERM-ON-HS-RX ) Data0 at 1.248 GBit/s\n",
        "5500120 Test 2.1.5 - HS-RX Differential Termination Disable Time (T TERM-OFF-HS-RX ) Data0 at 1.248 GBit/s\n",
        "5500360 Test 2.1.2 - HS-RX Accumulated Differential Input Voltage Tolerance Data0 at 1.248 GBit/s\n",
        "5500400 Test 2.1.7 - Receiver Jitter Tolerance Data0 at 1.248 GBit/s\n",
        "5500440 Jitter Sensitivity Data0 at 1.248 GBit/s\n",
        "5500480 Low Frequency Jitter Sensitivity Data0 at 1.248 GBit/s\n",
        "5500880 Test 2.3.1 - SYS-RX Differential Input Voltage Amplitude Data0 at 26 MBit/s\n",
        "5500890 Test 2.3.3 - SYS-RX Common-Mode Input Voltage Tolerance Data0 at 26 MBit/s\n",
        "5500900 Test 2.3.4 - SYS-RX Differential Termination Enable Time (T TERM-ON-SYS-RX ) Data0 at 26 MBit/s\n",
        "5500904 Test 2.3.5 - SYS-RX Differential Termination Disable Time (T TERM-OFF-SYS-RX ) Data0 at 26 MBit/s\n",
        "5500881 Test 2.3.1 - SYS-RX Differential Input Voltage Amplitude Data0 at 26 MBit/s\n",
        "5500891 Test 2.3.3 - SYS-RX Common-Mode Input Voltage Tolerance Data0 at 26 MBit/s\n"
       ]
      }
     ],
     "prompt_number": 5
    },
    {
     "cell_type": "markdown",
     "metadata": {},
     "source": [
      "Depending on what the user wants to happen while a tests are running in ValiFrame they may choose to implement handling of events in different ways.\n",
      "There are 2 ways to launch a run of tests.\n",
      "<ol>\n",
      "    <li> **Asynchronously**: The desired tests are kicked off using the **StartRun()** method which immediately returns control to the python interpreter. In the asynchronous example below a while loop is used once the tests are running. \n",
      "        <li> **Synchronously**: The desired tests are kicked off using the **RunProcedure()** or **RunProcedures()** method which then blocks any further action until the tests are complete.\n",
      "</ol>\n",
      "Below are examples of both methods."
     ]
    },
    {
     "cell_type": "code",
     "collapsed": false,
     "input": [
      "# run procedures asynchronously\n",
      "my_procedure = [5500000]  ## define variable for procedures to execute\n",
      "my_vf_mipi.SelectProcedures(my_procedure)\n",
      "my_vf_mipi.StartRun()\n",
      "while True:\n",
      "    time.sleep(2)\n",
      "    status = my_vf_mipi.GetActualStatus()\n",
      "    if status == 'Complete':\n",
      "        break"
     ],
     "language": "python",
     "metadata": {},
     "outputs": [
      {
       "output_type": "stream",
       "stream": "stdout",
       "text": [
        "status changed: Start\n",
        "status changed: Station Init\n",
        "status changed: Product MPhy Init\n",
        "status changed: Procedure Test 2.1.1 - HS-RX Differential Input Voltage Amplitude Data0 at 1.248 GBit/s Init\n",
        "Connect the outputs of Data0 to the test fixture of the DUT.\\par Connect the Trig/Ref Clock outputs of the JBERT to the Ref Clock Input of the DUT.\\par Add TTCs of 250 ps to the signal path.\n",
        "BitifEye.ValiFrame.UserInterface.ConnectionSetupDialog, Text: Connection Setup for Test 2.1.1 - HS-RX Differential Input Voltage Amplitude Data0 at 1.248 GBit/s\n",
        "Connection Dialog\n",
        "Missing Levels Calibration! Do you like to run the test without calibration?\n",
        "BitifEye.ValiFrame.UserInterface.VFMessageBox, Text: ValiFrame Missing Calibration Data\n",
        "Standard Windows.Forms.MessageBox\n",
        "status changed: Procedure Test 2.1.1 - HS-RX Differential Input Voltage Amplitude Data0 at 1.248 GBit/s CleanUp\n",
        "status changed: Procedure Test 2.1.1 - HS-RX Differential Input Voltage Amplitude Data0 at 1.248 GBit/s Complete\n",
        "procedure complete\n",
        "5500000\n",
        "<?xml version=\"1.0\" encoding=\"utf-16\"?>\r\n",
        "<TestResults>\r\n",
        "  <Summary>\r\n",
        "    <ProcedureName>Test 2.1.1 - HS-RX Differential Input Voltage Amplitude Data0 at 1.248 GBit/s</ProcedureName>\r\n",
        "    <ProcedureID>5500000</ProcedureID>\r\n",
        "    <Result>Incomplete</Result>\r\n",
        "    <DateTime>11/27/2013 2:04:22 PM</DateTime>\r\n",
        "  </Summary>\r\n",
        "</TestResults>\n",
        "status changed: Product MPhy Complete\n",
        "status changed: Station Complete\n",
        "status changed: Complete\n"
       ]
      }
     ],
     "prompt_number": 6
    },
    {
     "cell_type": "code",
     "collapsed": false,
     "input": [
      "# run procedures synchronously\n",
      "# Excel needs to be suppressed for Synchronous Run\n",
      "my_vf_mipi.SetExcelSuppressState(1) ## 1 - suppress Excel / 0 - not suppress Excel\n",
      "results = 'my_result'\n",
      "results = my_vf_mipi.RunProcedure(5500000)\n",
      "status = my_vf_mipi.GetActualStatus()\n",
      "print 'Status: ' + status"
     ],
     "language": "python",
     "metadata": {},
     "outputs": [
      {
       "output_type": "stream",
       "stream": "stdout",
       "text": [
        "status changed: Start\n",
        "status changed: Procedure Test 2.1.1 - HS-RX Differential Input Voltage Amplitude Data0 at 1.248 GBit/s Init\n",
        "Missing Levels Calibration! Do you like to run the test without calibration?\n",
        "BitifEye.ValiFrame.UserInterface.VFMessageBox, Text: ValiFrame Missing Calibration Data\n",
        "Standard Windows.Forms.MessageBox\n",
        "status changed: Procedure Test 2.1.1 - HS-RX Differential Input Voltage Amplitude Data0 at 1.248 GBit/s Start Iteration 0\n",
        "status changed: Procedure Test 2.1.1 - HS-RX Differential Input Voltage Amplitude Data0 at 1.248 GBit/s Step 0\n",
        "status changed: Procedure Test 2.1.1 - HS-RX Differential Input Voltage Amplitude Data0 at 1.248 GBit/s Step 1\n",
        "status changed: Procedure Test 2.1.1 - HS-RX Differential Input Voltage Amplitude Data0 at 1.248 GBit/s CleanUp\n",
        "status changed: Procedure Test 2.1.1 - HS-RX Differential Input Voltage Amplitude Data0 at 1.248 GBit/s Complete\n",
        "procedure complete\n",
        "5500000\n",
        "<?xml version=\"1.0\" encoding=\"utf-16\"?>\r\n",
        "<TestResults>\r\n",
        "  <Summary>\r\n",
        "    <ProcedureName>Test 2.1.1 - HS-RX Differential Input Voltage Amplitude Data0 at 1.248 GBit/s</ProcedureName>\r\n",
        "    <ProcedureID>5500000</ProcedureID>\r\n",
        "    <Result>Passed</Result>\r\n",
        "    <DateTime>11/27/2013 2:15:33 PM</DateTime>\r\n",
        "  </Summary>\r\n",
        "  <DocumentElement>\r\n",
        "    <Parameters>\r\n",
        "      <Name>Offline</Name>\r\n",
        "      <Value>False</Value>\r\n",
        "    </Parameters>\r\n",
        "    <Parameters>\r\n",
        "      <Name>0V Amplitude at Init</Name>\r\n",
        "      <Value>False</Value>\r\n",
        "    </Parameters>\r\n",
        "    <Parameters>\r\n",
        "      <Name>Re-Init Sequence</Name>\r\n",
        "      <Value>False</Value>\r\n",
        "    </Parameters>\r\n",
        "    <Parameters>\r\n",
        "      <Name>Show DUT Configure Dialog</Name>\r\n",
        "      <Value>False</Value>\r\n",
        "    </Parameters>\r\n",
        "  </DocumentElement>\r\n",
        "  <Data>\r\n",
        "    <ColumnHeader>|Result|Amplitude|Offset|Min Passed Amplitude|Min Spec Amplitude|Max Passed Amplitude|Max Spec Amplitude|Error Count|</ColumnHeader>\r\n",
        "    <Values>|pass|0.245|0.15|-1.79769313486232E+308|-1.79769313486232E+308|0.245|0.245|0|</Values>\r\n",
        "    <Values>|pass|0.06|0.15|0.06|0.06|-1.79769313486232E+308|-1.79769313486232E+308|0|</Values>\r\n",
        "  </Data>\r\n",
        "</TestResults>\n",
        "status changed: Product MPhy Complete\n",
        "status changed: Station Complete\n",
        "status changed: Complete\n",
        "Status: Complete"
       ]
      },
      {
       "output_type": "stream",
       "stream": "stdout",
       "text": [
        "\n"
       ]
      }
     ],
     "prompt_number": 7
    },
    {
     "cell_type": "code",
     "collapsed": false,
     "input": [
      "# Unregister the event handlers\n",
      "my_vf_mipi.LogChanged -= LogChangedEventHandler(my_LogChanged);\n",
      "my_vf_mipi.StatusChanged -= StatusChangedEventHandler(my_StatusChanged);\n",
      "my_vf_mipi.ProcedureCompleted -= ProcedureCompletedEventHandler(my_ProcedureCompleted);\n",
      "my_vf_mipi.DialogPopUp -= DialogShowEventHandler(my_DialogPopUp);"
     ],
     "language": "python",
     "metadata": {},
     "outputs": []
    },
    {
     "cell_type": "markdown",
     "metadata": {},
     "source": [
      "Below we modify our event handlers to avoid all dialogs instead sending the event messages to the python prompt."
     ]
    },
    {
     "cell_type": "code",
     "collapsed": false,
     "input": [
      "def my_LogChanged(logentry):\n",
      "    \"\"\"When Valiframe modifies the event log we can:\n",
      "    1. Display the log entry\n",
      "    2. Simply print that the log has changed\n",
      "    3. Create a message box informing the user about the log change.\n",
      "    For this example we will do nothing so we don't have a ton of log change notifications.\"\"\"\n",
      "    # 1.\n",
      "##    print 'log changed: ' + logentry #View log entry change - lots of text........\n",
      "    # 2. \n",
      "##    print 'log changed'\n",
      "    # 3.\n",
      "##    msgbox = 'log changed: ' + logentry\n",
      "##    title = 'log changed'\n",
      "##    win32api.MessageBox(0,str(msgbox), str(title))\n",
      "    pass\n",
      "\n",
      "\n",
      "def my_StatusChanged(source,status):\n",
      "    raw_input('status changed: ' + status)\n",
      "#    msgbox = 'status changed: ' + status\n",
      "#    title = 'status changed'\n",
      "#    win32api.MessageBox(0,str(msgbox), str(title))\n",
      "\n",
      "def my_ProcedureCompleted(procedure,xmlresult):\n",
      "    raw_input('procedure completed: ' + procedure + ' ' + xmlresult)\n",
      "#    print procedure\n",
      "#    print xmlresult\n",
      "\n",
      "def my_DialogPopUp(source, args):\n",
      "\n",
      "    #args.Dialog.ShowDialog()  #Uncomment to show Valiframe dialog box for all cases\n",
      "\n",
      "    #Alternately display windows messagebox w/ Valiframe messages\n",
      "    msgbox = args.DialogText\n",
      "    title = args.Dialog\n",
      "    raw_input('Msgbox:'+str(msgbox))\n",
      "#    print msgbox\n",
      "#    print title\n",
      "#    win32api.MessageBox(0,str(msgbox), str(title))\n",
      "\n",
      "    # Definition for args.DialogType\n",
      "    #Member name           Value   Description \n",
      "    #Form                  0       General Form if the dialog is not one of the other dialog types  \n",
      "    #MessageBox            1       Standard Windows.Forms.MessageBox.  \n",
      "    #ConnectionDialog      2       Connection dialog. The dialog which pops up if a connection change is required.  \n",
      "    #UserInformationDialog 3       User Information Dialog, which contains a text and one button.  \n",
      "    #UserDecisionDialog    4       User Decision Dialog, which contains one text and 2 buttons.  \n",
      "    #InfoDialog            5       Info Dialog, which is the same as the UserInformationDialog (obsolete, will be removed in one of the next releases).  \n",
      "\n",
      "    if args.DialogType == 0:\n",
      "            print 'General Form Dialog'\n",
      "            #  add actions here.....\n",
      "            #  args.Dialog.ShowDialog() #Uncomment to show dialog box for this case\n",
      "    elif args.DialogType == 1:\n",
      "            print 'Standard Windows.Forms.MessageBox'\n",
      "            #  add actions here.....\n",
      "            #  args.Dialog.ShowDialog() #Uncomment to show dialog box for this case\n",
      "    elif args.DialogType == 2:\n",
      "            print 'Connection Dialog'\n",
      "            #  add actions here.....\n",
      "            #  args.Dialog.ShowDialog() #Uncomment to show dialog box for this case\n",
      "    elif args.DialogType == 3:\n",
      "            print 'UserInformationDialog'\n",
      "            #  add actions here.....\n",
      "            #  args.Dialog.ShowDialog() #Uncomment to show dialog box for this case\n",
      "    elif args.DialogType == 4:\n",
      "            print 'UserDecisionDialog'\n",
      "            #  add actions here.....\n",
      "            #  args.Dialog.ShowDialog() #Uncomment to show dialog box for this case\n",
      "    elif args.DialogType == 5:\n",
      "            print 'InfoDialog'\n",
      "            #  add actions here.....\n",
      "            #  args.Dialog.ShowDialog() #Uncomment to show dialog box for this case\n",
      "    else:\n",
      "            print 'Message not handled'"
     ],
     "language": "python",
     "metadata": {},
     "outputs": [],
     "prompt_number": 2
    },
    {
     "cell_type": "code",
     "collapsed": false,
     "input": [
      "#register event handler\n",
      "my_vf_mipi.LogChanged += LogChangedEventHandler(my_LogChanged);\n",
      "my_vf_mipi.StatusChanged += StatusChangedEventHandler(my_StatusChanged);\n",
      "my_vf_mipi.ProcedureCompleted += ProcedureCompletedEventHandler(my_ProcedureCompleted);\n",
      "my_vf_mipi.DialogPopUp += DialogShowEventHandler(my_DialogPopUp);"
     ],
     "language": "python",
     "metadata": {},
     "outputs": []
    },
    {
     "cell_type": "markdown",
     "metadata": {},
     "source": [
      "The following synchronous method will have zero dialogs and instead display the events at the python prompt & wait for the user to hit enter. "
     ]
    },
    {
     "cell_type": "code",
     "collapsed": false,
     "input": [
      "# run procedures synchronously\n",
      "results = my_vf_mipi.RunProcedure(5500000)"
     ],
     "language": "python",
     "metadata": {},
     "outputs": [
      {
       "name": "stdout",
       "output_type": "stream",
       "stream": "stdout",
       "text": [
        "status changed: Start\n"
       ]
      },
      {
       "name": "stdout",
       "output_type": "stream",
       "stream": "stdout",
       "text": [
        "status changed: Station Init\n"
       ]
      },
      {
       "name": "stdout",
       "output_type": "stream",
       "stream": "stdout",
       "text": [
        "status changed: Product MPhy Init\n"
       ]
      },
      {
       "name": "stdout",
       "output_type": "stream",
       "stream": "stdout",
       "text": [
        "status changed: Procedure Test 2.1.1 - HS-RX Differential Input Voltage Amplitude Data0 at 1.248 GBit/s Init\n"
       ]
      },
      {
       "name": "stdout",
       "output_type": "stream",
       "stream": "stdout",
       "text": [
        "Msgbox:Connect the outputs of Data0 to the test fixture of the DUT.\\par Connect the Trig/Ref Clock outputs of the JBERT to the Ref Clock Input of the DUT.\\par Add TTCs of 250 ps to the signal path.\n"
       ]
      },
      {
       "name": "stdout",
       "output_type": "stream",
       "stream": "stdout",
       "text": [
        "Msgbox:Missing Levels Calibration! Do you like to run the test without calibration?\n"
       ]
      },
      {
       "name": "stdout",
       "output_type": "stream",
       "stream": "stdout",
       "text": [
        "status changed: Procedure Test 2.1.1 - HS-RX Differential Input Voltage Amplitude Data0 at 1.248 GBit/s Start Iteration 0\n"
       ]
      },
      {
       "name": "stdout",
       "output_type": "stream",
       "stream": "stdout",
       "text": [
        "status changed: Procedure Test 2.1.1 - HS-RX Differential Input Voltage Amplitude Data0 at 1.248 GBit/s Step 0\n"
       ]
      },
      {
       "name": "stdout",
       "output_type": "stream",
       "stream": "stdout",
       "text": [
        "status changed: Procedure Test 2.1.1 - HS-RX Differential Input Voltage Amplitude Data0 at 1.248 GBit/s Step 1\n"
       ]
      },
      {
       "name": "stdout",
       "output_type": "stream",
       "stream": "stdout",
       "text": [
        "status changed: Procedure Test 2.1.1 - HS-RX Differential Input Voltage Amplitude Data0 at 1.248 GBit/s CleanUp\n"
       ]
      },
      {
       "name": "stdout",
       "output_type": "stream",
       "stream": "stdout",
       "text": [
        "status changed: Procedure Test 2.1.1 - HS-RX Differential Input Voltage Amplitude Data0 at 1.248 GBit/s Complete\n"
       ]
      },
      {
       "name": "stdout",
       "output_type": "stream",
       "stream": "stdout",
       "text": [
        "status changed: Product MPhy Complete\n"
       ]
      },
      {
       "name": "stdout",
       "output_type": "stream",
       "stream": "stdout",
       "text": [
        "status changed: Station Complete\n"
       ]
      },
      {
       "output_type": "stream",
       "stream": "stdout",
       "text": [
        "Connection Dialog\n",
        "Standard Windows.Forms.MessageBox\n"
       ]
      },
      {
       "name": "stdout",
       "output_type": "stream",
       "stream": "stdout",
       "text": [
        "status changed: Complete\n"
       ]
      }
     ],
     "prompt_number": 6
    },
    {
     "cell_type": "code",
     "collapsed": false,
     "input": [
      "# Unregister the event handlers\n",
      "my_vf_mipi.LogChanged -= LogChangedEventHandler(my_LogChanged);\n",
      "my_vf_mipi.StatusChanged -= StatusChangedEventHandler(my_StatusChanged);\n",
      "my_vf_mipi.ProcedureCompleted -= ProcedureCompletedEventHandler(my_ProcedureCompleted);\n",
      "my_vf_mipi.DialogPopUp -= DialogShowEventHandler(my_DialogPopUp);\n",
      "# close object\n",
      "my_vf_mipi.Finalize()"
     ],
     "language": "python",
     "metadata": {},
     "outputs": [],
     "prompt_number": 7
    },
    {
     "cell_type": "markdown",
     "metadata": {},
     "source": [
      "Copyright \u00a9 2011 Agilent Technologies Inc. All rights reserved.\n",
      "\n",
      "You have a royalty-free right to use, modify, reproduce and distribute this content (and/or any modified version) in any way you find useful, provided that you agree that Agilent has no warranty, obligations or liability."
     ]
    }
   ],
   "metadata": {}
  }
 ]
}