{
 "metadata": {
  "name": ""
 },
 "nbformat": 3,
 "nbformat_minor": 0,
 "worksheets": [
  {
   "cells": [
    {
     "cell_type": "markdown",
     "metadata": {},
     "source": [
      "<div align=right><img src=http://cp.home.agilent.com/agilent/images3/home2/agilentlogo-home.gif align=right></div>\n",
      "<h1>Python Automation of Agilent Instruments</h1>\n",
      "*Note: This app note only applies to automation using a CPython installation on a Windows machine and assumes some prior knowledge and installation of Python.*\n",
      "<br>\n",
      "<h4>Contents</h4>\n",
      "<ul>\n",
      "<li><a href=\"#General\">General SCPI Instrumentation Control</a><br>\n",
      "<li><a href=\"#Infiniium_Compliance\">Automation of Infiniium Compliance Applications</a><br>\n",
      "<li><a href=\"#N5990A\">Automation of N5990A Automated Test Applications for Receiver Test</a>\n",
      "</ul>"
     ]
    },
    {
     "cell_type": "markdown",
     "metadata": {},
     "source": [
      "<hr>\n",
      "<h2><a id=\"General\">General SCPI Instrumentation Control</a></h2>\n",
      "<p>\n",
      "    Requirements:<br>\n",
      "<ol>\n",
      "<li>Installation of a VISA library such as [Agilent's IO Libraries](http://www.agilent.com/find/iolibs)<br>\n",
      "<li>Installation of the [PyVISA](https://github.com/hgrecco/pyvisa) Python library<br>\n",
      "</ol>\n",
      "</p>\n",
      "<p>Example of use with an Agilent 90000 X Series Oscilloscope:</p>"
     ]
    },
    {
     "cell_type": "code",
     "collapsed": false,
     "input": [
      "from visa import instrument # Import the instrument function from the visa module\n",
      "scope = instrument(\"TCPIP0::130.30.240.155::inst0::INSTR\") # Connect to the scope using the VISA address (see below)\n",
      "scope.ask(\"*IDN?\") # Query the IDN properties of the scope"
     ],
     "language": "python",
     "metadata": {},
     "outputs": [
      {
       "metadata": {},
       "output_type": "pyout",
       "prompt_number": 1,
       "text": [
        "'Agilent Technologies,MSOX93204A,MY53240105,04.60.0005'"
       ]
      }
     ],
     "prompt_number": 1
    },
    {
     "cell_type": "markdown",
     "metadata": {},
     "source": [
      "The instrument's visa address can be found in the IO Libraries Connection Expert:<br>\n",
      "<img src=\"files/IOLibs_visa_address.jpg\" width=\"750\" height=\"450\">"
     ]
    },
    {
     "cell_type": "markdown",
     "metadata": {},
     "source": [
      "Now let's do something more interesting..."
     ]
    },
    {
     "cell_type": "code",
     "collapsed": false,
     "input": [
      "scope.write(\":TIM:SCALE 200e-12\")\n",
      "scope.write(\":DIG\") # Capture a single waveform\n",
      "wfm_ascii = scope.ask(\":WAV:DATA?\") # Get the waveform data\n",
      "wfm_ascii = wfm_ascii[:-1] # Remove a trailing ,\n",
      "wfm = [float(s) for s in wfm_ascii.split(',')] # Convert the ascii list of strings to a list of floats\n",
      "sa_rate = float(scope.ask(\":ACQ:SRAT:ANAL?\")) # Get the scope's sample rate\n",
      "mem_depth = float(scope.ask(\":ACQ:POIN?\")) # Get the current memory depth\n",
      "t = linspace(-mem_depth/sa_rate,mem_depth/sa_rate, len(wfm)) # Calculate the sample times of the waveform\n",
      "plot(t,wfm) # Plot the waveform vs sample times"
     ],
     "language": "python",
     "metadata": {},
     "outputs": [
      {
       "metadata": {},
       "output_type": "pyout",
       "prompt_number": 2,
       "text": [
        "[<matplotlib.lines.Line2D at 0x4cd7a50>]"
       ]
      },
      {
       "metadata": {},
       "output_type": "display_data",
       "png": "[encoded data removed]",
       "text": [
        "<matplotlib.figure.Figure at 0x4c152f0>"
       ]
      }
     ],
     "prompt_number": 2
    },
    {
     "cell_type": "markdown",
     "metadata": {},
     "source": [
      "<hr>\n",
      "<h2><a id=\"Infiniium_Compliance\">Automation of Infiniium Compliance Applications</a></h2>\n",
      "*You can find more information about our scope apps at: [www.agilent.com/find/scope-apps](http://www.agilent.com/find/scope-apps)*<br>\n",
      "<br>Requirements:<br>\n",
      "<ol>\n",
      "    <li>Installation of a [Python for .NET](http://pythonnet.sourceforge.net) Python module<br>\n",
      "        * Unzip & put the files **clr.pyd** & **Python.Runtime.dll** into the \\DLLs directory of your Python installation (ex: C:\\Python27\\DLLS\\)*<br>\n",
      "<br>\n",
      "    <li>Installation of the [Infiniium Remote Programming Toolkit](http://www.agilent.com/find/rpi)<br>\n",
      "    * Once installed go to the Tools directory & copy the file **Agilent.Infiniium.AppFW.Remote.dll** into the same Python install \\DLLs directory*<br>\n",
      "<br>\n",
      "    <li>The Remote Programming Interface for the Infiniium Compliance Applications is built on a .NET API and requires a **LAN connection** to the scope.<br>\n",
      "</ol>\n",
      "\n",
      "Example:"
     ]
    },
    {
     "cell_type": "code",
     "collapsed": false,
     "input": [
      "# First set up the connection to the RPI DLL via the Python for .NET module\n",
      "import clr # Import the Common Runtime Library Python module\n",
      "clr.AddReference(\"Agilent.Infiniium.AppFW.Remote\") # Create a reference from CLR to the Compliance App DLL\n",
      "from Agilent.Infiniium.AppFW.Remote import * # Import the entire compliance app namespace from the Compliance App DLL\n",
      "scopeIpAddress = \"130.30.240.155\""
     ],
     "language": "python",
     "metadata": {},
     "outputs": [],
     "prompt_number": 3
    },
    {
     "cell_type": "markdown",
     "metadata": {},
     "source": [
      "Now we're ready to start..."
     ]
    },
    {
     "cell_type": "code",
     "collapsed": false,
     "input": [
      "scope.write(\":SYSTEM:LAUNCH 'N5393C PCIExpress Test App'\") # Launch the compliance app using the pyvisa instrument connection\n",
      "remoteObj = RemoteAteUtilities.GetRemoteAte(scopeIpAddress) # Connect to the compliance app\n",
      "remoteApp = IRemoteAte(remoteObj)"
     ],
     "language": "python",
     "metadata": {},
     "outputs": [],
     "prompt_number": 4
    },
    {
     "cell_type": "code",
     "collapsed": false,
     "input": [
      "remoteApp.SuppressMessages = True # Suppress the GUI prompts\n",
      "remoteApp.NewProject(True) # Create a new project\n",
      "# Set various Configuration Parameters\n",
      "remoteApp.SetConfig(\"DevicePCIErev\", \"PCIE 2.0\")\n",
      "remoteApp.SetConfig(\"TestPoint_AddInCard\", \"1.0\")\n",
      "remoteApp.SetConfig(\"DataRateOpt\", \"2.5 GT/s\")\n",
      "remoteApp.SetConfig(\"EnableSignalCheck\", \"0.0\")\n",
      "remoteApp.SelectedTests = [2301, 2310, 2320, 2330, 2340, 2350] # Select the tests to run\n",
      "remoteApp.Run() # Run the selected tests\n",
      "# Set up the project save options & save it to disk\n",
      "saveOptions = SaveProjectOptions()\n",
      "saveOptions.BaseDirectory = \"c:\\\\temp\"\n",
      "saveOptions.Name = \"Demo\"\n",
      "saveOptions.OverwriteExisting = True\n",
      "projectFullPath = remoteApp.SaveProjectCustom(saveOptions)\n",
      "print projectFullPath\n",
      "# Set up the project results options and then get the results\n",
      "resultOptions = ResultOptions()\n",
      "resultOptions.TestIds = [2301]\n",
      "resultOptions.IncludeCsvData = True\n",
      "customResults = remoteApp.GetResultsCustom(resultOptions)\n",
      "results = customResults.CsvResults\n",
      "#remoteApp.Exit(True,True) # Exit the application"
     ],
     "language": "python",
     "metadata": {},
     "outputs": [
      {
       "output_type": "stream",
       "stream": "stdout",
       "text": [
        "c:\\temp\\Demo\\Demo.proj\n"
       ]
      }
     ],
     "prompt_number": 5
    },
    {
     "cell_type": "code",
     "collapsed": false,
     "input": [
      "results_list = [s for s in results.split('\\r')]\n",
      "results_list"
     ],
     "language": "python",
     "metadata": {},
     "outputs": [
      {
       "metadata": {},
       "output_type": "pyout",
       "prompt_number": 6,
       "text": [
        "[u'Test ID, Test Name, Measured Item, Trial 1 Value',\n",
        " u'\\n2301,\"Add-in Card Tx, Unit Interval (PCIE 2.0, 2.5 GT/s)\",Data Lane,\"Lane0\"',\n",
        " u'\\n2301,\"Add-in Card Tx, Unit Interval (PCIE 2.0, 2.5 GT/s)\",Note:,\"Non-SSC Limits Used: 2.5 GT/s +/-300ppm\"',\n",
        " u'\\n2301,\"Add-in Card Tx, Unit Interval (PCIE 2.0, 2.5 GT/s)\",Actual Value,\"401.7910\"',\n",
        " u'\\n2301,\"Add-in Card Tx, Unit Interval (PCIE 2.0, 2.5 GT/s)\",#3500 UI Blocks Measured,\"992054\"',\n",
        " u'\\n2301,\"Add-in Card Tx, Unit Interval (PCIE 2.0, 2.5 GT/s)\",Margin,\"-696.2\"',\n",
        " u'\\n2301,\"Add-in Card Tx, Unit Interval (PCIE 2.0, 2.5 GT/s)\",Min UI,\"401.7820\"',\n",
        " u'\\n2301,\"Add-in Card Tx, Unit Interval (PCIE 2.0, 2.5 GT/s)\",Max UI,\"401.7910\"',\n",
        " u'\\n2301,\"Add-in Card Tx, Unit Interval (PCIE 2.0, 2.5 GT/s)\",Mean UI,\"401.7860\"',\n",
        " u'\\n2301,\"Add-in Card Tx, Unit Interval (PCIE 2.0, 2.5 GT/s)\",Worst Case Data Rate,\"2488856146.604\"',\n",
        " u'\\n2301,\"Add-in Card Tx, Unit Interval (PCIE 2.0, 2.5 GT/s)\",Mean Data Rate,\"2488887119.014\"',\n",
        " u'\\n2301,\"Add-in Card Tx, Unit Interval (PCIE 2.0, 2.5 GT/s)\",Connection Type,\"Chan 1,3 - Direct Connect\"',\n",
        " u'\\n']"
       ]
      }
     ],
     "prompt_number": 6
    },
    {
     "cell_type": "markdown",
     "metadata": {},
     "source": [
      "<hr>\n",
      "<h2><a id=\"N5990A\">Automation of N5990A Automated Test Applications for Receiver Test</a></h2>\n",
      "*More information about [N5990A solutions](http://www.home.agilent.com/en/pd-734301-pn-N5990A)*<br>\n",
      "<br>\n",
      "Requirements:<br>\n",
      "<ol>\n",
      "    <li>Installation of a [Python for .NET](http://pythonnet.sourceforge.net) Python module/<br>\n",
      "        * Unzip & put the files **clr.pyd** & **Python.Runtime.dll** into the \\DLLs directory of your Python installation (ex: C:\\Python27\\DLLS\\)*<br>\n",
      "<br>\n",
      "    <li>The Valiframe dll\u2019s that needed are typically installed in the following directory: C:\\Program Files (x86)\\BitifEye\\ValiFrame\\PCI-Express3\n",
      "You can copy over the ones you need to a directory that Python looks in but the easiest way to reference them from your Python script is to add this directory to the sys.path variable which tells the Python interpreter where to look for modules and dll\u2019s.<br>\n",
      "</ol>\n",
      "\n",
      "Example:"
     ]
    },
    {
     "cell_type": "code",
     "collapsed": false,
     "input": [
      "import sys \n",
      "sys.path.append('C:\\\\Program Files (x86)\\\\BitifEye\\\\ValiFrame\\\\PCI-Express3') # Add the location of the Valiframe dll's to the system path\n",
      "import clr # Import the Common Runtime Library Python module\n",
      "clr.AddReference(\"ValiFrameRemote\") # Create a reference from CLR to the Valiframe App DLL\n",
      "from BitifEye.ValiFrame.ValiFrameRemote import * # Import the entire valiframe app namespace from the DLL\n",
      "my_vf_pcie = ValiFrameRemote()\n",
      "my_vf_pcie.InitApplication(\"PciExpress3\")"
     ],
     "language": "python",
     "metadata": {},
     "outputs": [
      {
       "metadata": {},
       "output_type": "pyout",
       "prompt_number": 7,
       "text": [
        "True"
       ]
      }
     ],
     "prompt_number": 7
    }
   ],
   "metadata": {}
  }
 ]
}