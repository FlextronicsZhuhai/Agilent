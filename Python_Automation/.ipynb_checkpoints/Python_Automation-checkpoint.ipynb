{
 "metadata": {
  "name": ""
 },
 "nbformat": 3,
 "nbformat_minor": 0,
 "worksheets": [
  {
   "cells": [
    {
     "cell_type": "markdown",
     "metadata": {},
     "source": [
      "<div align=right><img src=http://cp.home.agilent.com/agilent/images3/home2/agilentlogo-home.gif align=right></div>\n",
      "<h1>Python Automation of Agilent Instruments</h1>\n",
      "*Note: This app note only applies to automation using a CPython installation on a Windows machine and assumes some prior knowledge and installation of Python.*\n",
      "<br>\n",
      "<h4>Contents</h4>\n",
      "<ul>\n",
      "<li><a href=\"#General\">General SCPI Instrumentation Control</a><br>\n",
      "<li><a href=\"#Infiniium_Compliance\">Automation of Infiniium Compliance Applications</a><br>\n",
      "<li><a href=\"#N5990A\">Automation of N5990A Automated Test Applications for Receiver Test</a>\n",
      "</ul>"
     ]
    },
    {
     "cell_type": "markdown",
     "metadata": {},
     "source": [
      "<hr>\n",
      "<h2><a id=\"General\">General SCPI Instrumentation Control</a></h2>\n",
      "<p>\n",
      "    Requirements:<br>\n",
      "<ol>\n",
      "<li>Installation of a VISA library such as [Agilent's IO Libraries](http://www.agilent.com/find/iolibs)<br>\n",
      "<li>Installation of the [PyVISA](https://github.com/hgrecco/pyvisa) Python library<br>\n",
      "</ol>\n",
      "</p>\n",
      "<p>Example of use with an Agilent [90000 X Series](www.agilent.com/find/90000x-scope) Oscilloscope:</p>"
     ]
    },
    {
     "cell_type": "code",
     "collapsed": false,
     "input": [
      "from visa import instrument # Import the instrument function from the visa module\n",
      "scope = instrument(\"TCPIP0::130.30.240.189::inst0::INSTR\") # Connect to the scope using the VISA address (see below)\n",
      "scope.ask(\"*IDN?\") # Query the IDN properties of the scope"
     ],
     "language": "python",
     "metadata": {},
     "outputs": [
      {
       "metadata": {},
       "output_type": "pyout",
       "prompt_number": 1,
       "text": [
        "'Agilent Technologies,DSOX93204A,MY53090103,04.60.0008'"
       ]
      }
     ],
     "prompt_number": 1
    },
    {
     "cell_type": "markdown",
     "metadata": {},
     "source": [
      "The instrument's visa address can be found in the IO Libraries Connection Expert:<br>\n",
      "<img src=\"files/IOLibs_visa_address.jpg\" width=\"750\" height=\"450\">"
     ]
    },
    {
     "cell_type": "markdown",
     "metadata": {},
     "source": [
      "Now let's do something more interesting..."
     ]
    },
    {
     "cell_type": "code",
     "collapsed": false,
     "input": [
      "scope.write(\":TIM:SCALE 200e-12\")\n",
      "scope.write(\":DIG\") # Capture a single waveform\n",
      "wfm_ascii = scope.ask(\":WAV:DATA?\") # Get the waveform data\n",
      "wfm_ascii = wfm_ascii[:-1] # Remove a trailing ,\n",
      "wfm = [float(s) for s in wfm_ascii.split(',')] # Convert the ascii list of strings to a list of floats\n",
      "sa_rate = float(scope.ask(\":ACQ:SRAT:ANAL?\")) # Get the scope's sample rate\n",
      "mem_depth = float(scope.ask(\":ACQ:POIN?\")) # Get the current memory depth\n",
      "t = linspace(-mem_depth/sa_rate,mem_depth/sa_rate, len(wfm)) # Calculate the sample times of the waveform\n",
      "plot(t,wfm) # Plot the waveform vs sample times"
     ],
     "language": "python",
     "metadata": {},
     "outputs": [
      {
       "metadata": {},
       "output_type": "pyout",
       "prompt_number": 2,
       "text": [
        "[<matplotlib.lines.Line2D at 0x4570a50>]"
       ]
      },
      {
       "metadata": {},
       "output_type": "display_data",
       "png": "[encoded data removed]",
       "text": [
        "<matplotlib.figure.Figure at 0x44a3330>"
       ]
      }
     ],
     "prompt_number": 2
    },
    {
     "cell_type": "markdown",
     "metadata": {},
     "source": [
      "<hr>\n",
      "<h2><a id=\"Infiniium_Compliance\">Automation of Infiniium Compliance Applications</a></h2>\n",
      "*You can find more information about our scope apps at: [www.agilent.com/find/scope-apps](http://www.agilent.com/find/scope-apps)*<br>\n",
      "<br>Requirements:<br>\n",
      "<ol>\n",
      "    <li>Installation of a [Python for .NET](http://pythonnet.sourceforge.net) Python module<br>\n",
      "        * Unzip & put the files **clr.pyd** & **Python.Runtime.dll** into the \\DLLs directory of your Python installation (ex: C:\\Python27\\DLLS\\)*<br>\n",
      "<br>\n",
      "    <li>Installation of the [Infiniium Remote Programming Toolkit](http://www.agilent.com/find/rpi)<br>\n",
      "    * Once installed go to the Tools directory & copy the file **Agilent.Infiniium.AppFW.Remote.dll** into the same Python install \\DLLs directory*<br>\n",
      "<br>\n",
      "    <li>The Remote Programming Interface for the Infiniium Compliance Applications is built on a .NET API and requires a **LAN connection** to the scope.<br>\n",
      "</ol>\n",
      "\n",
      "Example:"
     ]
    },
    {
     "cell_type": "code",
     "collapsed": false,
     "input": [
      "# First set up the connection to the RPI DLL via the Python for .NET module\n",
      "import clr # Import the Common Runtime Library Python module\n",
      "clr.AddReference(\"Agilent.Infiniium.AppFW.Remote\") # Create a reference from CLR to the Compliance App DLL\n",
      "from Agilent.Infiniium.AppFW.Remote import * # Import the entire compliance app namespace from the Compliance App DLL\n",
      "scopeIpAddress = \"130.30.240.155\""
     ],
     "language": "python",
     "metadata": {},
     "outputs": []
    },
    {
     "cell_type": "markdown",
     "metadata": {},
     "source": [
      "Now we're ready to start..."
     ]
    },
    {
     "cell_type": "code",
     "collapsed": false,
     "input": [
      "scope.write(\":SYSTEM:LAUNCH 'N5393C PCIExpress Test App'\") # Launch the compliance app using the pyvisa instrument connection\n",
      "remoteObj = RemoteAteUtilities.GetRemoteAte(scopeIpAddress) # Connect to the compliance app\n",
      "remoteApp = IRemoteAte(remoteObj)"
     ],
     "language": "python",
     "metadata": {},
     "outputs": []
    },
    {
     "cell_type": "code",
     "collapsed": false,
     "input": [
      "remoteApp.SuppressMessages = True # Suppress the GUI prompts\n",
      "remoteApp.NewProject(True) # Create a new project\n",
      "# Set various Configuration Parameters\n",
      "remoteApp.SetConfig(\"DevicePCIErev\", \"PCIE 2.0\")\n",
      "remoteApp.SetConfig(\"TestPoint_AddInCard\", \"1.0\")\n",
      "remoteApp.SetConfig(\"DataRateOpt\", \"2.5 GT/s\")\n",
      "remoteApp.SetConfig(\"EnableSignalCheck\", \"0.0\")\n",
      "remoteApp.SelectedTests = [2301, 2310, 2320, 2330, 2340, 2350] # Select the tests to run\n",
      "remoteApp.Run() # Run the selected tests\n",
      "# Set up the project save options & save it to disk\n",
      "saveOptions = SaveProjectOptions()\n",
      "saveOptions.BaseDirectory = \"c:\\\\temp\"\n",
      "saveOptions.Name = \"Demo\"\n",
      "saveOptions.OverwriteExisting = True\n",
      "projectFullPath = remoteApp.SaveProjectCustom(saveOptions)\n",
      "# Set up the project results options and then get the results\n",
      "resultOptions = ResultOptions()\n",
      "resultOptions.TestIds = [2301]\n",
      "resultOptions.IncludeCsvData = True\n",
      "customResults = remoteApp.GetResultsCustom(resultOptions)\n",
      "results = customResults.CsvResults\n",
      "#remoteApp.Exit(True,True) # Exit the application"
     ],
     "language": "python",
     "metadata": {},
     "outputs": []
    },
    {
     "cell_type": "code",
     "collapsed": false,
     "input": [
      "# An example of how to manipulate and display results using the Pandas library\n",
      "import pandas as pd\n",
      "from StringIO import StringIO\n",
      "df_data = pd.read_csv(StringIO(results), sep=',', header=0, quotechar = '\"')\n",
      "pd.set_option('display.max_colwidth', 22)\n",
      "df_data"
     ],
     "language": "python",
     "metadata": {},
     "outputs": []
    },
    {
     "cell_type": "markdown",
     "metadata": {},
     "source": [
      "Similarly for Compliance Applications on **FlexDCA**:"
     ]
    },
    {
     "cell_type": "code",
     "collapsed": false,
     "input": [
      "from visa import *\n",
      "dca = instrument(\"TCPIP0::130.30.240.150::inst0::INSTR\")\n",
      "dca.ask(\"*idn?\")"
     ],
     "language": "python",
     "metadata": {},
     "outputs": []
    },
    {
     "cell_type": "code",
     "collapsed": false,
     "input": [
      "dca.write(\":SYST:LAUN 'N1012A OIF CEI 3_0'\") # Launch the compliance app"
     ],
     "language": "python",
     "metadata": {},
     "outputs": []
    },
    {
     "cell_type": "markdown",
     "metadata": {},
     "source": [
      "<hr>\n",
      "<h2><a id=\"N5990A\">Automation of N5990A Automated Test Applications for Receiver Test</a></h2>\n",
      "*More information about [N5990A solutions](http://www.home.agilent.com/en/pd-734301-pn-N5990A)*<br>\n",
      "<br>\n",
      "Requirements:<br>\n",
      "<ol>\n",
      "    <li>Installation of a [Python for .NET](http://pythonnet.sourceforge.net) Python module/<br>\n",
      "        * Unzip & put the files **clr.pyd** & **Python.Runtime.dll** into the \\DLLs directory of your Python installation (ex: C:\\Python27\\DLLS\\)*<br>\n",
      "<br>\n",
      "    <li>The Valiframe dll\u2019s that needed are typically installed in the following directory: C:\\Program Files (x86)\\BitifEye\\ValiFrame\\PCI-Express3\n",
      "You can copy over the ones you need to a directory that Python looks in but the easiest way to reference them from your Python script is to add this directory to the sys.path variable which tells the Python interpreter where to look for modules and dll\u2019s.<br>\n",
      "</ol>\n",
      "\n",
      "Example:"
     ]
    },
    {
     "cell_type": "code",
     "collapsed": false,
     "input": [
      "import sys \n",
      "sys.path.append('C:\\\\Program Files (x86)\\\\BitifEye\\\\ValiFrame\\\\PCI-Express3') # Add the location of the Valiframe dll's to the system path\n",
      "import clr # Import the Common Runtime Library Python module\n",
      "clr.AddReference(\"ValiFrameRemote\") # Create a reference from CLR to the Valiframe App DLL\n",
      "from BitifEye.ValiFrame.ValiFrameRemote import * # Import the entire valiframe app namespace from the DLL\n",
      "my_vf_pcie = ValiFrameRemote() # Creates an instance of the ValiFrameRemote class\n",
      "my_vf_pcie.InitApplication(\"PciExpress3\") # Initialize the application\n",
      "my_vf_pcie.LoadProject(\"my_pcie3_proj.vfp\")\n",
      "#my_vf_pcie.ConfigureApplication() # This method creates a GUI prompt"
     ],
     "language": "python",
     "metadata": {},
     "outputs": [],
     "prompt_number": 3
    },
    {
     "cell_type": "markdown",
     "metadata": {},
     "source": [
      "There are a couple of interesting things to be aware of when using .NET dll's in Python via the pythonnet module.<br>\n",
      "<ol>\n",
      "    <li>A .NET method may require the user to pass the variable name it wishes to modify as an argument. Python does not support \"pass by reference\" but the variable name must exist in python before it can be handed to the .NET method. The .NET method will simply point to the new instance.<br>\n",
      "        The example below shows how to handle this.\n",
      "    <li> .NET attributes can often return .NET collections such as Arrays. The object returned by python.net is indexed and iterable in Python but it is not a native Python collection object like a list.<br>\n",
      "        The example below shows a simple way to convert Arrays of Strings and Int32s to lists of strings & ints.\n",
      "</ol>"
     ]
    },
    {
     "cell_type": "code",
     "collapsed": false,
     "input": [
      "procedureIDs = procedureNames = [] # The variable names must be assigned to something but are overwritten in the next call\n",
      "_, procedureIDs, procedureNames = my_vf_pcie.GetProcedures(procedureIDs, procedureNames)\n",
      "procedureIDs = [int(id) for id in procedureIDs] # Convert to a python list of integers\n",
      "procedureNames = [str(name) for name in procedureNames] # Convert to a python list of strings\n",
      "procs = zip(procedureIDs, procedureNames) # Zip the id's & names together. A dictionary may also be a useful way to store these.\n",
      "for proc_id,proc_name in procs:\n",
      "    print proc_id, proc_name"
     ],
     "language": "python",
     "metadata": {},
     "outputs": [
      {
       "output_type": "stream",
       "stream": "stdout",
       "text": [
        "300101 Random Jitter Calibration\n",
        "300103 De-Emphasis Calibration\n",
        "300104 Eye Height Calibration\n",
        "301101 Random Jitter Calibration\n",
        "301103 De-Emphasis Calibration\n",
        "301104 Eye Height Calibration\n",
        "302120 Equalization Preset Calibration\n",
        "302121 Equalization Custom Preset Calibration\n",
        "302122 Random Jitter Calibration\n",
        "302123 Sinusoidal Jitter Calibration\n",
        "302125 DM Sinusoidal Interference Calibration\n",
        "302126 Eye Height and Width Calibration\n",
        "302127 Compliance Eye Calibration\n",
        "310101 Compliance Test\n",
        "311101 Compliance Test\n",
        "312120 Preset Compliance Test\n",
        "312121 Compliance Test\n",
        "320101 Unit Interval \n",
        "320102 Template Tests \n",
        "320103 Median to Max Jitter \n",
        "320104 Eye-Width \n",
        "320105 Peak Differential Output Voltage (Transition)\n",
        "320106 Peak Differential Output Voltage (NonTransition)\n",
        "321140 Unit Interval \n",
        "321141 Template Tests -3.5dB \n",
        "321142 Peak Differential Output Voltage -3.5dB \n",
        "321143 Eye-Width -3.5dB with crosstalk \n",
        "321144 RMS Random Jitter -3.5dB with crosstalk \n",
        "321145 Maximum Deterministic Jitter -3.5dB with crosstalk \n",
        "321146 Total Jitter at BER-12 -3.5dB with crosstalk \n",
        "321147 Eye-Width -3.5dB without crosstalk \n",
        "321148 RMS Random Jitter -3.5dB without crosstalk \n",
        "321149 Maximum Deterministic Jitter -3.5dB without crosstalk \n",
        "321150 Total Jitter at BER-12 -3.5dB without crosstalk \n",
        "322160 Unit Interval \n",
        "322161 Template Tests \n",
        "322162 Eye-Width \n",
        "322163 Peak Differential Output Voltage \n"
       ]
      }
     ],
     "prompt_number": 4
    },
    {
     "cell_type": "code",
     "collapsed": false,
     "input": [
      "my_vf_pcie.DialogPopUp += DialogShowEventHandler(VFDialogInformation()) # Register the event handler (suppresses dialogs)"
     ],
     "language": "python",
     "metadata": {},
     "outputs": [],
     "prompt_number": 5
    },
    {
     "cell_type": "code",
     "collapsed": false,
     "input": [
      "eyewidth_result = str()\n",
      "my_vf_pcie.RunProcedure(320104, eyewidth_result)"
     ],
     "language": "python",
     "metadata": {},
     "outputs": [
      {
       "metadata": {},
       "output_type": "pyout",
       "prompt_number": 6,
       "text": [
        "(True,\n",
        " u'<?xml version=\"1.0\" encoding=\"utf-16\"?>\\r\\n<TestResults>\\r\\n  <Summary>\\r\\n    <ProcedureName>Eye-Width </ProcedureName>\\r\\n    <ProcedureID>320104</ProcedureID>\\r\\n    <Result>Incomplete</Result>\\r\\n    <DateTime>11/13/2013 12:32:21 PM</DateTime>\\r\\n  </Summary>\\r\\n</TestResults>')"
       ]
      }
     ],
     "prompt_number": 6
    },
    {
     "cell_type": "code",
     "collapsed": false,
     "input": [
      "bert = instrument(\"TCPIP0::localhost::2203::SOCKET\")"
     ],
     "language": "python",
     "metadata": {},
     "outputs": []
    },
    {
     "cell_type": "code",
     "collapsed": false,
     "input": [
      "bert.ask(\"*idn?\")"
     ],
     "language": "python",
     "metadata": {},
     "outputs": []
    },
    {
     "cell_type": "markdown",
     "metadata": {},
     "source": [
      "Copyright \u00a9 2011 Agilent Technologies Inc. All rights reserved.\n",
      "\n",
      "You have a royalty-free right to use, modify, reproduce and distribute this content (and/or any modified version) in any way you find useful, provided that you agree that Agilent has no warranty, obligations or liability."
     ]
    }
   ],
   "metadata": {}
  }
 ]
}